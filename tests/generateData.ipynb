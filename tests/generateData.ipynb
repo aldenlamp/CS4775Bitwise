{
 "cells": [
  {
   "cell_type": "code",
   "execution_count": 76,
   "id": "aaa5374a-e2d7-4a55-9580-d5e94e405b9a",
   "metadata": {},
   "outputs": [],
   "source": [
    "import msprime\n",
    "import os\n",
    "import subprocess\n",
    "import tskit"
   ]
  },
  {
   "cell_type": "code",
   "execution_count": 95,
   "metadata": {},
   "outputs": [],
   "source": [
    "# Constants\n",
    "\n",
    "VFC_DIR = \"generatedVcf\"\n",
    "PLINK_DIR = \"generatedPlink\"\n",
    "PLINK1 = \"plink\"\n",
    "PLINK_CMD = \"plink2\"\n",
    "\n",
    "if not os.path.exists(VFC_DIR):\n",
    "  os.mkdir(VFC_DIR)\n",
    "\n",
    "if not os.path.exists(PLINK_DIR):\n",
    "  os.mkdir(PLINK_DIR)"
   ]
  },
  {
   "cell_type": "code",
   "execution_count": 78,
   "id": "80c2ac23",
   "metadata": {},
   "outputs": [],
   "source": [
    "def generate(n_samples: int, length: int, recombination_rate: float = 1e-8, mutation_rate: float = 1e-8, population_size: float = 10**4, random_seed: int = 42) -> tskit.TreeSequence:\n",
    "  ts = msprime.sim_ancestry(\n",
    "      samples=[msprime.SampleSet(n_samples)],\n",
    "      population_size=population_size,\n",
    "      recombination_rate=recombination_rate,\n",
    "      sequence_length=length,\n",
    "      random_seed=random_seed,\n",
    "  )\n",
    "  mts = msprime.sim_mutations(ts, rate=mutation_rate, random_seed=random_seed)\n",
    "  return mts  "
   ]
  },
  {
   "cell_type": "code",
   "execution_count": 79,
   "id": "d3a1e388-13d3-4d0e-a1c5-81f6caccf510",
   "metadata": {},
   "outputs": [],
   "source": [
    "def output_generated(n_samples: int, length: int, n_samples_str: str | None = None, length_str: str | None = None, dir: str = VFC_DIR) -> str:\n",
    "  mts = generate(n_samples, length)\n",
    "  print(f\"Simulation done (Samples: {n_samples}, length: {length}): {mts.num_trees} trees and {mts.num_sites} sites\")\n",
    "\n",
    "  if n_samples_str is None:\n",
    "    n_samples_str = str(n_samples)\n",
    "  if length_str is None:\n",
    "    length_str = str(length)\n",
    "\n",
    "  file_base = f\"sim_len-{length_str}_samples-{n_samples_str}\"\n",
    "  out_vcf = f\"{dir}/{file_base}.vcf\"\n",
    "\n",
    "  with open(out_vcf, \"w\") as vcf_file:\n",
    "      mts.write_vcf(vcf_file)\n",
    "  print(\"VCF output done\")\n",
    "  return file_base, out_vcf"
   ]
  },
  {
   "cell_type": "code",
   "execution_count": 80,
   "metadata": {},
   "outputs": [],
   "source": [
    "def sampleSnps(file_base: str, snp_lim: int, dir: str = PLINK_DIR, snp_lim_str: str | None = None):\n",
    "  new_file_base = f\"{file_base}_snplim-{snp_lim_str if snp_lim_str else snp_lim}\"\n",
    "  out_dir = f\"{dir}/{new_file_base}\"\n",
    "  meta_out = f\"{out_dir}/meta\"\n",
    "\n",
    "  if not os.path.exists(out_dir):\n",
    "    os.mkdir(out_dir)\n",
    "    if not os.path.exists(meta_out):\n",
    "      os.mkdir(meta_out)\n",
    "\n",
    "  input_files = f\"{dir}/{file_base}/data\"\n",
    "  output_files = f\"{out_dir}/data\"\n",
    "\n",
    "  recode_file = f\"{meta_out}/recode\"\n",
    "  cut_file = f\"{meta_out}/cut.map\"\n",
    "  shuf_file = f\"{meta_out}/shuf.map\"\n",
    "\n",
    "  recode_args = [PLINK1, \"--bfile\", input_files, \"--recode\", \"--out\", recode_file]\n",
    "  recode_proc = subprocess.run(recode_args, capture_output=True)\n",
    "\n",
    "  cut_args = [\"cut\", \"-f\", \"2\", f\"{recode_file}.map\"]\n",
    "  cut_proc = subprocess.run(cut_args, capture_output=True)\n",
    "  with open(cut_file, \"w+\") as cut_file_out:\n",
    "    cut_file_out.write(cut_proc.stdout.decode(\"utf-8\"))\n",
    "\n",
    "  shuf_args = [\"shuf\", \"-n\", f\"{snp_lim}\", cut_file]\n",
    "  shuf_proc = subprocess.run(shuf_args, capture_output=True)\n",
    "  with open(shuf_file, \"w+\") as shuf_file_out:\n",
    "    shuf_file_out.write(shuf_proc.stdout.decode(\"utf-8\"))\n",
    "\n",
    "  extract_args = [PLINK1, \"--bfile\", input_files, \"--extract\", shuf_file, \"--make-bed\", \"--out\", output_files]\n",
    "  extract_proc = subprocess.run(extract_args, capture_output=True)\n",
    "\n",
    "  print(\"Sampling SNPs Done\")\n"
   ]
  },
  {
   "cell_type": "code",
   "execution_count": 86,
   "id": "39882e60",
   "metadata": {},
   "outputs": [],
   "source": [
    "def convertToPlink(vcf_path: str, file_base: str, dir: str = PLINK_DIR, max_maf: float | None = None, max_alleles: int = 2):\n",
    "\n",
    "  new_file_base = file_base\n",
    "  if max_maf:\n",
    "    new_file_base = f\"{new_file_base}_maf-{max_maf}\"\n",
    "\n",
    "  out_dir = f\"{dir}/{new_file_base}\"\n",
    "  out_file = f\"{out_dir}/data\"\n",
    "    \n",
    "  if not os.path.exists(out_dir):\n",
    "    os.mkdir(out_dir)\n",
    "  \n",
    "  args = [PLINK_CMD, \"--vcf\", vcf_path, \"--max-alleles\", str(max_alleles), \"--make-bed\", \"--out\", out_file]\n",
    "  if max_maf:\n",
    "    args.extend([\"--max-maf\", str(max_maf)])\n",
    "\n",
    "  a = subprocess.run(args, capture_output=True)\n",
    "  print(\"VCF to PLINK done\")\n",
    "  return a"
   ]
  },
  {
   "cell_type": "code",
   "execution_count": 87,
   "id": "4e691309",
   "metadata": {},
   "outputs": [],
   "source": [
    "# Generating the VCF File\n",
    "# file_base, vcf_file = output_generated(5000, 10000000, \"5k\", \"10MB\")\n",
    "\n",
    "# Generating the Plink from VCF\n",
    "# proc = convertToPlink(vcf_file, file_base)"
   ]
  },
  {
   "cell_type": "code",
   "execution_count": 96,
   "id": "064832e9",
   "metadata": {},
   "outputs": [
    {
     "name": "stdout",
     "output_type": "stream",
     "text": [
      "Simulation done (Samples: 10000, length: 10000000): 38901 trees and 41516 sites\n",
      "VCF output done\n",
      "VCF to PLINK done\n",
      "Sampling SNPs Done\n",
      "Simulation done (Samples: 25000, length: 10000000): 42951 trees and 45350 sites\n",
      "VCF output done\n",
      "VCF to PLINK done\n",
      "Sampling SNPs Done\n",
      "Simulation done (Samples: 50000, length: 10000000): 45420 trees and 48693 sites\n",
      "VCF output done\n",
      "VCF to PLINK done\n",
      "Sampling SNPs Done\n",
      "Simulation done (Samples: 75000, length: 10000000): 47058 trees and 49718 sites\n",
      "VCF output done\n",
      "VCF to PLINK done\n",
      "Sampling SNPs Done\n",
      "Simulation done (Samples: 100000, length: 10000000): 48146 trees and 50571 sites\n",
      "VCF output done\n",
      "VCF to PLINK done\n",
      "Sampling SNPs Done\n"
     ]
    }
   ],
   "source": [
    "# Varying population size\n",
    "\n",
    "# vcf_inputs = [\n",
    "#   (5000, 10000000, \"5k\", \"10MB\"),\n",
    "#   (10000, 10000000, \"10k\", \"10MB\"),\n",
    "#   (15000, 10000000, \"15k\", \"10MB\"),\n",
    "#   (20000, 10000000, \"20k\", \"10MB\")\n",
    "# ]\n",
    "# vcf_inputs = [\n",
    "#   (10000, 50000000, \"10k\", \"50MB\"),\n",
    "#   (25000, 50000000, \"25k\", \"50MB\"),\n",
    "#   (50000, 50000000, \"50k\", \"50MB\"),\n",
    "#   (75000, 50000000, \"75k\", \"50MB\"),\n",
    "#   (100000, 50000000, \"100k\", \"50MB\")\n",
    "# ]\n",
    "vcf_inputs = [\n",
    "  (10000, 10000000, \"10k\", \"10MB\"),\n",
    "  (25000, 10000000, \"25k\", \"10MB\"),\n",
    "  (50000, 10000000, \"50k\", \"10MB\"),\n",
    "  (75000, 10000000, \"75k\", \"10MB\"),\n",
    "  (100000, 10000000, \"100k\", \"10MB\")\n",
    "]\n",
    "plink_inputs = (30000, \"30k\")\n",
    "\n",
    "for i in vcf_inputs:\n",
    "  file_base, vcf_file = output_generated(*i)\n",
    "  proc = convertToPlink(vcf_file, file_base, PLINK_DIR)\n",
    "  sampleSnps(file_base, plink_inputs[0], PLINK_DIR, plink_inputs[1])"
   ]
  },
  {
   "cell_type": "code",
   "execution_count": null,
   "metadata": {},
   "outputs": [],
   "source": []
  }
 ],
 "metadata": {
  "kernelspec": {
   "display_name": "Python 3 (ipykernel)",
   "language": "python",
   "name": "python3"
  },
  "language_info": {
   "codemirror_mode": {
    "name": "ipython",
    "version": 3
   },
   "file_extension": ".py",
   "mimetype": "text/x-python",
   "name": "python",
   "nbconvert_exporter": "python",
   "pygments_lexer": "ipython3",
   "version": "3.11.6"
  }
 },
 "nbformat": 4,
 "nbformat_minor": 5
}
